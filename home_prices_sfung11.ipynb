{
 "cells": [
  {
   "cell_type": "markdown",
   "metadata": {},
   "source": [
    "## Project 2: Metis (Luther)\n",
    "### Learn webscraping and linear regression with test train split"
   ]
  },
  {
   "cell_type": "code",
   "execution_count": null,
   "metadata": {
    "collapsed": true
   },
   "outputs": [],
   "source": [
    "# Project will be to examine the housing market in North Seattle, zip code 98103"
   ]
  },
  {
   "cell_type": "code",
   "execution_count": null,
   "metadata": {
    "collapsed": true
   },
   "outputs": [],
   "source": [
    "from __future__ import print_function, division"
   ]
  },
  {
   "cell_type": "code",
   "execution_count": null,
   "metadata": {
    "collapsed": false
   },
   "outputs": [],
   "source": [
    "import requests\n",
    "\n",
    "requests.__path__"
   ]
  },
  {
   "cell_type": "code",
   "execution_count": null,
   "metadata": {
    "collapsed": false
   },
   "outputs": [],
   "source": [
    "# Scraping portion\n",
    "\n",
    "from bs4 import BeautifulSoup\n",
    "import re\n",
    "import csv\n",
    "import pandas as pd\n",
    "\n",
    "# will be useful when calling bs4 on strings\n",
    "import warnings\n",
    "warnings.filterwarnings('ignore')"
   ]
  },
  {
   "cell_type": "code",
   "execution_count": null,
   "metadata": {
    "collapsed": true
   },
   "outputs": [],
   "source": [
    "zillow_url = 'https://www.zillow.com/homes/recently_sold/Seattle-WA-98103/house_type/99563_rid/90_days/' + \\\n",
    "'priced_sort/47.800933,-122.122307,47.539687,-122.56176_rect/10_zm/'\n",
    "response_zillow = requests.get(zillow_url)"
   ]
  },
  {
   "cell_type": "code",
   "execution_count": null,
   "metadata": {
    "collapsed": false
   },
   "outputs": [],
   "source": [
    "print(response_zillow.status_code)"
   ]
  },
  {
   "cell_type": "code",
   "execution_count": null,
   "metadata": {
    "collapsed": false
   },
   "outputs": [],
   "source": [
    "page = response_zillow.text\n",
    "# lxml is a library for processing XML and HTML in Python. We are parsing the data from txt to lxml\n",
    "soup = BeautifulSoup(page, \"lxml\")\n",
    "\n",
    "# The specific hrefs containing links to the listings include 'homedetails' in the string. Find and append all of the \n",
    "# relevent links to hrefs.\n",
    "\n",
    "hrefs = []\n",
    "\n",
    "for link in soup.find_all('a', href=re.compile('homedetails')): \n",
    "    href = link.get('href')\n",
    "    hrefs.append(href)\n",
    "\n",
    "# Length should be 25 for page 1.\n",
    "print(len(hrefs))"
   ]
  },
  {
   "cell_type": "code",
   "execution_count": null,
   "metadata": {
    "collapsed": false
   },
   "outputs": [],
   "source": [
    "# I did not start with page 1 because the link did not follow the same pattern.\n",
    "# Need to hit next page to get rest of search results. As of 07/10/17 there are 105 single family houses.\n",
    "# At 25 listings per page, there are 5 pages total.\n",
    "\n",
    "for num in range(2,6):\n",
    "    next_url = 'https://www.zillow.com/homes/recently_sold/house_type/99563_rid/90_days/0_singlestory' +\\\n",
    "    '/priced_sort/47.800933,-122.122307,47.539687,-122.56176_rect/10_zm/' + str(num) + '_p/'\n",
    "    response = requests.get(next_url)\n",
    "    next_page = response.text\n",
    "    soup = BeautifulSoup(next_page, \"lxml\")\n",
    "\n",
    "    for link in soup.find_all('a', href=re.compile('homedetails')): \n",
    "        href = link.get('href')\n",
    "        hrefs.append(href)\n",
    "    print(len(hrefs))"
   ]
  },
  {
   "cell_type": "code",
   "execution_count": null,
   "metadata": {
    "collapsed": false
   },
   "outputs": [],
   "source": [
    "print(hrefs[:3])"
   ]
  },
  {
   "cell_type": "code",
   "execution_count": null,
   "metadata": {
    "collapsed": false
   },
   "outputs": [],
   "source": [
    "# Scrape for features in house listings. Start with tags.\n",
    "href_info = []\n",
    "\n",
    "for href in hrefs:\n",
    "    home_url = 'https://www.zillow.com' + href\n",
    "    response = requests.get(home_url)\n",
    "    soup = BeautifulSoup(response.text, \"lxml\")\n",
    "    \n",
    "    # scrape for BR, Bath, Sqft (bbs)\n",
    "    bbs = soup.find_all('span', class_='addr_bbs')\n",
    "    \n",
    "    # Scrape for sold price \n",
    "    price = soup.find_all('span', class_ = 'hdp-fact-value', text=re.compile('for \\$'))\n",
    "    \n",
    "    # Scrape for year property was built\n",
    "    age = soup.find_all('span', class_ = 'hdp-fact-value', text=re.compile('Built in '))\n",
    "\n",
    "    # skipping listings that do not have BR, bath, sqft entries\n",
    "    # (7/13/17) needed to also check for exactly 3 items (ran out of time!) \n",
    "    if not bbs:\n",
    "        continue\n",
    "        \n",
    "    # check price before appending\n",
    "    if price:    \n",
    "        bbs.append(price[0])\n",
    "    else:\n",
    "        bbs.append(BeautifulSoup('<span class=\"hdp-fact-value\">XXX 2017 for $0</span>')) # plug in dummy price\n",
    "     \n",
    "    # check age \n",
    "    if age:    \n",
    "        bbs.append(age[0])\n",
    "    else:\n",
    "        bbs.append(BeautifulSoup('<span class=\"hdp-fact-value\">Built in 0000</span>')) # plug in dummy year\n",
    "\n",
    "    # append all 5 features to href_info together as a list\n",
    "    href_info.append(bbs)\n"
   ]
  },
  {
   "cell_type": "code",
   "execution_count": null,
   "metadata": {
    "collapsed": false
   },
   "outputs": [],
   "source": [
    "[i for i, elt in enumerate(href_info) if not elt]\n",
    "[i for i, elt in enumerate(href_info) if len(elt) != 5]"
   ]
  },
  {
   "cell_type": "code",
   "execution_count": null,
   "metadata": {
    "collapsed": false
   },
   "outputs": [],
   "source": [
    "href_info[2]"
   ]
  },
  {
   "cell_type": "code",
   "execution_count": null,
   "metadata": {
    "collapsed": false
   },
   "outputs": [],
   "source": [
    "# Dictionary with features as keys. Populate with scraped information from arrays in previous cell.\n",
    "features = {'beds': [], 'baths': [], 'sqft': [], 'price':[], 'year-built': []}\n",
    "\n",
    "# separate features beds, bath, sqft\n",
    "for info in href_info:\n",
    "    if not info:\n",
    "        continue\n",
    "    # take into account single bed (eg 1 bed)\n",
    "    beds = info[0].text.replace(' bed', '').replace('s', '')\n",
    "    if beds == '--':\n",
    "        beds = None\n",
    "    elif beds == 'Studio':\n",
    "        beds = 0\n",
    "    else:\n",
    "        beds = int(beds)\n",
    "    features['beds'].append(beds)\n",
    "    \n",
    "    # take into account single bath (eg 1 bath)\n",
    "    baths = info[1].text.replace(' bath', '').replace('s', '')\n",
    "    if baths == '--':\n",
    "        baths = None\n",
    "    else:\n",
    "        baths = float(baths)\n",
    "    features['baths'].append(baths)\n",
    "    \n",
    "    sqft = info[2].text.replace(' sqft', '')\n",
    "    sqft = sqft.replace(',', '')\n",
    "    if sqft == '--':\n",
    "        sqft = None\n",
    "    else:\n",
    "        sqft = int(sqft)\n",
    "    features['sqft'].append(sqft)\n",
    "\n",
    "\n",
    "# Find the cost of a property within the hdp-fact-value class\n",
    "\n",
    "    sold_price = info[3].text\n",
    "    sold_price.find('$')\n",
    "    cost = sold_price[sold_price.find('$')+1:]\n",
    "    cost = int(cost.replace(',', ''))\n",
    "    features['price'].append(cost)\n",
    "    \n",
    "# Find the year property was built within the hdp-fact-value class\n",
    "    house = info[4].text\n",
    "    year = house[-5:]\n",
    "    year = int(year)\n",
    "    features['year-built'].append(year)\n",
    "    "
   ]
  },
  {
   "cell_type": "code",
   "execution_count": null,
   "metadata": {
    "collapsed": false
   },
   "outputs": [],
   "source": [
    "# covert features dictionary to pandas dataframe\n",
    "listings_df = pd.DataFrame.from_dict(features)"
   ]
  },
  {
   "cell_type": "code",
   "execution_count": null,
   "metadata": {
    "collapsed": false
   },
   "outputs": [],
   "source": [
    "# output DataFrame of features to csv file\n",
    "\n",
    "listings_df.to_csv('features_df.csv', index_label=False)"
   ]
  },
  {
   "cell_type": "code",
   "execution_count": null,
   "metadata": {
    "collapsed": false
   },
   "outputs": [],
   "source": [
    "listings_df.head()"
   ]
  },
  {
   "cell_type": "code",
   "execution_count": null,
   "metadata": {
    "collapsed": false
   },
   "outputs": [],
   "source": [
    "listings_df.info()"
   ]
  },
  {
   "cell_type": "code",
   "execution_count": 1,
   "metadata": {
    "collapsed": true
   },
   "outputs": [],
   "source": [
    "# Regression time!\n",
    "import csv\n",
    "import pandas as pd\n",
    "import numpy as np\n",
    "import matplotlib as plt\n",
    "from seaborn import plt\n",
    "import seaborn as sns\n",
    "from sklearn.linear_model import LinearRegression\n",
    "from sklearn.model_selection import train_test_split\n",
    "from sklearn import preprocessing\n",
    "%matplotlib inline"
   ]
  },
  {
   "cell_type": "code",
   "execution_count": 2,
   "metadata": {
    "collapsed": false
   },
   "outputs": [],
   "source": [
    "features_df = pd.read_csv('features_df.csv')"
   ]
  },
  {
   "cell_type": "markdown",
   "metadata": {},
   "source": [
    "### Get to understand the data."
   ]
  },
  {
   "cell_type": "code",
   "execution_count": 3,
   "metadata": {
    "collapsed": false
   },
   "outputs": [
    {
     "data": {
      "text/html": [
       "<div>\n",
       "<table border=\"1\" class=\"dataframe\">\n",
       "  <thead>\n",
       "    <tr style=\"text-align: right;\">\n",
       "      <th></th>\n",
       "      <th>baths</th>\n",
       "      <th>beds</th>\n",
       "      <th>price</th>\n",
       "      <th>sqft</th>\n",
       "      <th>year-built</th>\n",
       "    </tr>\n",
       "  </thead>\n",
       "  <tbody>\n",
       "    <tr>\n",
       "      <th>0</th>\n",
       "      <td>3.10</td>\n",
       "      <td>5</td>\n",
       "      <td>2900000</td>\n",
       "      <td>5390.0</td>\n",
       "      <td>1914</td>\n",
       "    </tr>\n",
       "    <tr>\n",
       "      <th>1</th>\n",
       "      <td>4.25</td>\n",
       "      <td>5</td>\n",
       "      <td>2000000</td>\n",
       "      <td>3984.0</td>\n",
       "      <td>2017</td>\n",
       "    </tr>\n",
       "    <tr>\n",
       "      <th>2</th>\n",
       "      <td>4.00</td>\n",
       "      <td>5</td>\n",
       "      <td>1965000</td>\n",
       "      <td>3720.0</td>\n",
       "      <td>2015</td>\n",
       "    </tr>\n",
       "  </tbody>\n",
       "</table>\n",
       "</div>"
      ],
      "text/plain": [
       "   baths  beds    price    sqft  year-built\n",
       "0   3.10     5  2900000  5390.0        1914\n",
       "1   4.25     5  2000000  3984.0        2017\n",
       "2   4.00     5  1965000  3720.0        2015"
      ]
     },
     "execution_count": 3,
     "metadata": {},
     "output_type": "execute_result"
    }
   ],
   "source": [
    "features_df.head(3)"
   ]
  },
  {
   "cell_type": "code",
   "execution_count": 4,
   "metadata": {
    "collapsed": false
   },
   "outputs": [
    {
     "data": {
      "text/html": [
       "<div>\n",
       "<table border=\"1\" class=\"dataframe\">\n",
       "  <thead>\n",
       "    <tr style=\"text-align: right;\">\n",
       "      <th></th>\n",
       "      <th>price</th>\n",
       "      <th>beds</th>\n",
       "      <th>baths</th>\n",
       "      <th>sqft</th>\n",
       "      <th>year-built</th>\n",
       "    </tr>\n",
       "  </thead>\n",
       "  <tbody>\n",
       "    <tr>\n",
       "      <th>0</th>\n",
       "      <td>2900000</td>\n",
       "      <td>5</td>\n",
       "      <td>3.10</td>\n",
       "      <td>5390.0</td>\n",
       "      <td>1914</td>\n",
       "    </tr>\n",
       "    <tr>\n",
       "      <th>1</th>\n",
       "      <td>2000000</td>\n",
       "      <td>5</td>\n",
       "      <td>4.25</td>\n",
       "      <td>3984.0</td>\n",
       "      <td>2017</td>\n",
       "    </tr>\n",
       "    <tr>\n",
       "      <th>2</th>\n",
       "      <td>1965000</td>\n",
       "      <td>5</td>\n",
       "      <td>4.00</td>\n",
       "      <td>3720.0</td>\n",
       "      <td>2015</td>\n",
       "    </tr>\n",
       "    <tr>\n",
       "      <th>3</th>\n",
       "      <td>1925000</td>\n",
       "      <td>4</td>\n",
       "      <td>3.25</td>\n",
       "      <td>3340.0</td>\n",
       "      <td>2009</td>\n",
       "    </tr>\n",
       "    <tr>\n",
       "      <th>4</th>\n",
       "      <td>1895000</td>\n",
       "      <td>6</td>\n",
       "      <td>6.00</td>\n",
       "      <td>4400.0</td>\n",
       "      <td>2017</td>\n",
       "    </tr>\n",
       "  </tbody>\n",
       "</table>\n",
       "</div>"
      ],
      "text/plain": [
       "     price  beds  baths    sqft  year-built\n",
       "0  2900000     5   3.10  5390.0        1914\n",
       "1  2000000     5   4.25  3984.0        2017\n",
       "2  1965000     5   4.00  3720.0        2015\n",
       "3  1925000     4   3.25  3340.0        2009\n",
       "4  1895000     6   6.00  4400.0        2017"
      ]
     },
     "execution_count": 4,
     "metadata": {},
     "output_type": "execute_result"
    }
   ],
   "source": [
    "# Reorder column names to make slicing easier later.\n",
    "features_df = features_df[['price', 'beds', 'baths', 'sqft', 'year-built']]\n",
    "features_df.head()"
   ]
  },
  {
   "cell_type": "code",
   "execution_count": 5,
   "metadata": {
    "collapsed": true
   },
   "outputs": [],
   "source": [
    "# test_train_split doesn't like hyphenated column names. changing to year from year-built.\n",
    "features_df.rename(columns = {'year-built':'year'}, inplace = True)"
   ]
  },
  {
   "cell_type": "code",
   "execution_count": 6,
   "metadata": {
    "collapsed": false
   },
   "outputs": [
    {
     "data": {
      "text/plain": [
       "Index(['price', 'beds', 'baths', 'sqft', 'year'], dtype='object')"
      ]
     },
     "execution_count": 6,
     "metadata": {},
     "output_type": "execute_result"
    }
   ],
   "source": [
    "# Verify rename worked.\n",
    "features_df.columns"
   ]
  },
  {
   "cell_type": "code",
   "execution_count": 7,
   "metadata": {
    "collapsed": true
   },
   "outputs": [],
   "source": [
    "# 3 listings were plugged in with dummy year 0000. replace with NaN...\n",
    "features_df['year'].replace(0000, np.nan, inplace=True)"
   ]
  },
  {
   "cell_type": "code",
   "execution_count": 8,
   "metadata": {
    "collapsed": true
   },
   "outputs": [],
   "source": [
    "# Take care of filling in any fields with missing data with mean of column\n",
    "# This isn't kosher, should have split first into train and test sets then fill in with mean of train/test values.\n",
    "features_df = features_df.fillna(features_df.mean(), inplace=True)"
   ]
  },
  {
   "cell_type": "code",
   "execution_count": 9,
   "metadata": {
    "collapsed": false
   },
   "outputs": [
    {
     "data": {
      "text/plain": [
       "price    917461.613636\n",
       "beds          3.090909\n",
       "baths         2.085465\n",
       "sqft       1905.080460\n",
       "year       1951.282353\n",
       "dtype: float64"
      ]
     },
     "execution_count": 9,
     "metadata": {},
     "output_type": "execute_result"
    }
   ],
   "source": [
    "# Check out new mean of columns.\n",
    "features_df.mean()\n",
    "# Note that mean for year is now updated from 1884 to 1951."
   ]
  },
  {
   "cell_type": "markdown",
   "metadata": {},
   "source": [
    "### Split the data into train and test slices"
   ]
  },
  {
   "cell_type": "code",
   "execution_count": 10,
   "metadata": {
    "collapsed": true
   },
   "outputs": [],
   "source": [
    "# First use all features.\n",
    "y = features_df.iloc[:, :1]\n",
    "X = features_df.iloc[:, 1:]\n",
    "X_train, X_test, y_train, y_test = train_test_split(X, y, test_size=0.3)"
   ]
  },
  {
   "cell_type": "markdown",
   "metadata": {},
   "source": [
    "### Standardize the *training* data"
   ]
  },
  {
   "cell_type": "code",
   "execution_count": 11,
   "metadata": {
    "collapsed": true
   },
   "outputs": [],
   "source": [
    "from sklearn.pipeline import Pipeline\n",
    "\n",
    "pipe = [\n",
    "    ('scale', preprocessing.StandardScaler()),\n",
    "    ('ml', LinearRegression())\n",
    "]\n",
    "pipe = Pipeline(pipe)"
   ]
  },
  {
   "cell_type": "code",
   "execution_count": 12,
   "metadata": {
    "collapsed": false
   },
   "outputs": [
    {
     "data": {
      "text/plain": [
       "Pipeline(steps=[('scale', StandardScaler(copy=True, with_mean=True, with_std=True)), ('ml', LinearRegression(copy_X=True, fit_intercept=True, n_jobs=1, normalize=False))])"
      ]
     },
     "execution_count": 12,
     "metadata": {},
     "output_type": "execute_result"
    }
   ],
   "source": [
    "pipe.fit(X_train, y_train)"
   ]
  },
  {
   "cell_type": "markdown",
   "metadata": {},
   "source": [
    "### Apply the transform to the test data\n",
    "### Score all the data with the transform and plot"
   ]
  },
  {
   "cell_type": "code",
   "execution_count": 13,
   "metadata": {
    "collapsed": false
   },
   "outputs": [
    {
     "name": "stdout",
     "output_type": "stream",
     "text": [
      "Test: 0.833043152312\n",
      "Train: 0.755164852795\n"
     ]
    }
   ],
   "source": [
    "# Evaluate the model against the testing data\n",
    "print('Test:', pipe.score(X_test, y_test))\n",
    "print('Train:', pipe.score(X_train, y_train))\n",
    "# Test: 0.758521361237\n",
    "# Train: 0.807748170575"
   ]
  },
  {
   "cell_type": "code",
   "execution_count": 14,
   "metadata": {
    "collapsed": false
   },
   "outputs": [
    {
     "name": "stderr",
     "output_type": "stream",
     "text": [
      "/Users/macbook/anaconda/lib/python3.6/site-packages/sklearn/cross_validation.py:44: DeprecationWarning: This module was deprecated in version 0.18 in favor of the model_selection module into which all the refactored classes and functions are moved. Also note that the interface of the new CV iterators are different from that of this module. This module will be removed in 0.20.\n",
      "  \"This module will be removed in 0.20.\", DeprecationWarning)\n"
     ]
    }
   ],
   "source": [
    "from sklearn.metrics import mean_squared_error\n",
    "from sklearn.cross_validation import cross_val_score"
   ]
  },
  {
   "cell_type": "code",
   "execution_count": 15,
   "metadata": {
    "collapsed": false
   },
   "outputs": [
    {
     "name": "stdout",
     "output_type": "stream",
     "text": [
      "MSE:  34248878284.1\n"
     ]
    }
   ],
   "source": [
    "# MSE for first model\n",
    "mse = mean_squared_error(y_test, pipe.predict(X_test))\n",
    "print('MSE: ', mse)\n",
    "# MSE:  52580876725.4 \n",
    "# The sqrt of this is ~ 229305. Consider that the mean is 917461.6. Not horrible?"
   ]
  },
  {
   "cell_type": "code",
   "execution_count": 16,
   "metadata": {
    "collapsed": false
   },
   "outputs": [
    {
     "name": "stdout",
     "output_type": "stream",
     "text": [
      "[  5.35231947e+10   6.51115880e+10   3.98813133e+10   1.05378102e+10] 42263476540.9\n"
     ]
    }
   ],
   "source": [
    "scores = cross_val_score(pipe, X_test, y_test, cv=4, scoring='neg_mean_squared_error')\n",
    "print(-scores, np.mean(-scores))"
   ]
  },
  {
   "cell_type": "code",
   "execution_count": 17,
   "metadata": {
    "collapsed": true
   },
   "outputs": [],
   "source": [
    "predicted_y = pipe.predict(X_test)"
   ]
  },
  {
   "cell_type": "code",
   "execution_count": 18,
   "metadata": {
    "collapsed": false
   },
   "outputs": [
    {
     "data": {
      "text/plain": [
       "[<matplotlib.lines.Line2D at 0x11e5adcf8>]"
      ]
     },
     "execution_count": 18,
     "metadata": {},
     "output_type": "execute_result"
    },
    {
     "data": {
      "image/png": "[encoded data removed]",
      "text/plain": [
       "<matplotlib.figure.Figure at 0x11e4fbd68>"
      ]
     },
     "metadata": {},
     "output_type": "display_data"
    }
   ],
   "source": [
    "# want to plot predicted y vals from X_test against y_test\n",
    "plt.figure(figsize=(5, 5)) # (width, height)\n",
    "plt.suptitle('Sold price and predicted sold price, $R^2$ = 0.76', fontsize=18)\n",
    "plt.plot(y_test, predicted_y, '.', markersize = 13)\n",
    "plt.xticks(rotation = 45)\n",
    "plt.xlabel('Actual Sold Price, $')\n",
    "plt.ylabel('Predicted Price, $')\n",
    "plt.plot([y.min(), y.max()], [y.min(), y.max()], 'k--', lw=1, color = 'r')\n",
    "plt.plot([y.min() + np.std(y), y.max() + np.std(y)], [y.min(), y.max()], lw=1, color = 'b')\n",
    "plt.plot([y.min(), y.max()], [y.min() + np.std(y), y.max() + np.std(y)], lw=1, color = 'b')"
   ]
  },
  {
   "cell_type": "code",
   "execution_count": 19,
   "metadata": {
    "collapsed": false
   },
   "outputs": [
    {
     "data": {
      "text/plain": [
       "<matplotlib.text.Text at 0x11ea1ac18>"
      ]
     },
     "execution_count": 19,
     "metadata": {},
     "output_type": "execute_result"
    },
    {
     "data": {
      "image/png": "[encoded data removed]",
      "text/plain": [
       "<matplotlib.figure.Figure at 0x11e5e54e0>"
      ]
     },
     "metadata": {},
     "output_type": "display_data"
    }
   ],
   "source": [
    "# Would be good to have: update this code to for loop through features to generate plots\n",
    "# features = ['beds', 'baths', 'sqft', 'year']\n",
    "\n",
    "plt.figure(figsize=(12, 8)) # (width, height)\n",
    "\n",
    "# as an int, how to plot this one as line/bar graph with stdev?\n",
    "plt.subplot(2, 2, 1)\n",
    "#plt.axes.Axes.errorbar(X_test, y_test, features_df['price']) # This is wrong.\n",
    "plt.plot(features_df['beds'], features_df['price'], '.', ms=13)\n",
    "plt.title('beds')\n",
    "\n",
    "plt.subplot(2, 2, 2)\n",
    "plt.plot(features_df['baths'], features_df['price'], '.', ms=13)\n",
    "plt.title('baths')\n",
    "\n",
    "plt.subplot(2, 2, 3)\n",
    "plt.plot(features_df['sqft'], features_df['price'], '.', ms=13)\n",
    "plt.title('sqft')\n",
    "\n",
    "plt.subplot(2, 2, 4)\n",
    "plt.plot(features_df['year'], features_df['price'], '.', ms=13)\n",
    "plt.title('year')\n",
    "            \n",
    "plt.suptitle('Sold Price by Feature', fontsize=18)"
   ]
  },
  {
   "cell_type": "code",
   "execution_count": 20,
   "metadata": {
    "collapsed": false
   },
   "outputs": [
    {
     "data": {
      "text/html": [
       "<div>\n",
       "<table border=\"1\" class=\"dataframe\">\n",
       "  <thead>\n",
       "    <tr style=\"text-align: right;\">\n",
       "      <th></th>\n",
       "      <th>price</th>\n",
       "      <th>beds</th>\n",
       "      <th>baths</th>\n",
       "      <th>sqft</th>\n",
       "      <th>year</th>\n",
       "    </tr>\n",
       "  </thead>\n",
       "  <tbody>\n",
       "    <tr>\n",
       "      <th>price</th>\n",
       "      <td>1.000000</td>\n",
       "      <td>0.656336</td>\n",
       "      <td>0.612880</td>\n",
       "      <td>0.881093</td>\n",
       "      <td>0.290750</td>\n",
       "    </tr>\n",
       "    <tr>\n",
       "      <th>beds</th>\n",
       "      <td>0.656336</td>\n",
       "      <td>1.000000</td>\n",
       "      <td>0.636191</td>\n",
       "      <td>0.772445</td>\n",
       "      <td>0.249730</td>\n",
       "    </tr>\n",
       "    <tr>\n",
       "      <th>baths</th>\n",
       "      <td>0.612880</td>\n",
       "      <td>0.636191</td>\n",
       "      <td>1.000000</td>\n",
       "      <td>0.630156</td>\n",
       "      <td>0.575500</td>\n",
       "    </tr>\n",
       "    <tr>\n",
       "      <th>sqft</th>\n",
       "      <td>0.881093</td>\n",
       "      <td>0.772445</td>\n",
       "      <td>0.630156</td>\n",
       "      <td>1.000000</td>\n",
       "      <td>0.201093</td>\n",
       "    </tr>\n",
       "    <tr>\n",
       "      <th>year</th>\n",
       "      <td>0.290750</td>\n",
       "      <td>0.249730</td>\n",
       "      <td>0.575500</td>\n",
       "      <td>0.201093</td>\n",
       "      <td>1.000000</td>\n",
       "    </tr>\n",
       "  </tbody>\n",
       "</table>\n",
       "</div>"
      ],
      "text/plain": [
       "          price      beds     baths      sqft      year\n",
       "price  1.000000  0.656336  0.612880  0.881093  0.290750\n",
       "beds   0.656336  1.000000  0.636191  0.772445  0.249730\n",
       "baths  0.612880  0.636191  1.000000  0.630156  0.575500\n",
       "sqft   0.881093  0.772445  0.630156  1.000000  0.201093\n",
       "year   0.290750  0.249730  0.575500  0.201093  1.000000"
      ]
     },
     "execution_count": 20,
     "metadata": {},
     "output_type": "execute_result"
    }
   ],
   "source": [
    "features_df.corr()\n",
    "# Notice that sqft is highly correlated with sold price."
   ]
  },
  {
   "cell_type": "code",
   "execution_count": 21,
   "metadata": {
    "collapsed": true
   },
   "outputs": [],
   "source": [
    "pipe2 = [\n",
    "    ('scale', preprocessing.StandardScaler()),\n",
    "    ('ml', LinearRegression())\n",
    "]\n",
    "pipe2 = Pipeline(pipe2)"
   ]
  },
  {
   "cell_type": "code",
   "execution_count": 22,
   "metadata": {
    "collapsed": false
   },
   "outputs": [
    {
     "name": "stdout",
     "output_type": "stream",
     "text": [
      "Test: 0.757771552535\n",
      "Train: 0.779759833161\n"
     ]
    }
   ],
   "source": [
    "# Model 2 looking at only sqft\n",
    "y2 = features_df.iloc[:, :1] # y stays the same, which is sold price\n",
    "X2 = features_df.iloc[:, 3:4] # feature interested in right now is sqft\n",
    "X2_train, X2_test, y2_train, y2_test = train_test_split(X2, y2, test_size=0.3)\n",
    "pipe2.fit(X2_train, y2_train)\n",
    "\n",
    "# Evaluate the model against the testing data\n",
    "print('Test:', pipe2.score(X2_test, y2_test))\n",
    "print('Train:', pipe2.score(X2_train, y2_train))\n",
    "# Test: 0.863975056282\n",
    "# Train: 0.69288641072\n",
    "# Better than the first model!"
   ]
  },
  {
   "cell_type": "code",
   "execution_count": 23,
   "metadata": {
    "collapsed": true
   },
   "outputs": [],
   "source": [
    "predicted_y2 = pipe2.predict(X2_test)"
   ]
  },
  {
   "cell_type": "code",
   "execution_count": 24,
   "metadata": {
    "collapsed": false
   },
   "outputs": [
    {
     "name": "stdout",
     "output_type": "stream",
     "text": [
      "MSE for lr2:  38971184940.2\n",
      "[  5.69803361e+10   1.57762787e+10   1.97004362e+10   9.58285222e+10] 47071393282.4\n"
     ]
    }
   ],
   "source": [
    "# Model 2: Find error on model which utilized only sqft\n",
    "mse2 = mean_squared_error(y2_test, pipe2.predict(X2_test))\n",
    "print('MSE for lr2: ', mse2)\n",
    "scores2 = cross_val_score(pipe2, X2_test, y2_test, cv=4, scoring='neg_mean_squared_error')\n",
    "print(-scores2, np.mean(-scores2))\n",
    "# MSE is 35023895308.6\n",
    "# Sqrt of this is ~ 187146.7. Error is smaller, but on same order of magnitude when compared to first model."
   ]
  },
  {
   "cell_type": "code",
   "execution_count": 25,
   "metadata": {
    "collapsed": false
   },
   "outputs": [
    {
     "data": {
      "text/plain": [
       "<matplotlib.text.Text at 0x11ea34da0>"
      ]
     },
     "execution_count": 25,
     "metadata": {},
     "output_type": "execute_result"
    },
    {
     "data": {
      "image/png": "[encoded data removed]",
      "text/plain": [
       "<matplotlib.figure.Figure at 0x11e4e9828>"
      ]
     },
     "metadata": {},
     "output_type": "display_data"
    }
   ],
   "source": [
    "plt.plot(predicted_y2, y2_test, '.', markersize = 13)\n",
    "plt.suptitle('Predicted price and Actual price, $R^2$ = 0.86', fontsize=18)\n",
    "plt.xticks(rotation = 45)\n",
    "plt.xlabel('Predicted Price, $')\n",
    "plt.ylabel('Actual Sold Price, $')"
   ]
  },
  {
   "cell_type": "code",
   "execution_count": 26,
   "metadata": {
    "collapsed": true
   },
   "outputs": [],
   "source": [
    "# Is there a point in which sold price levels off/plateaus as size of property increases? Caveat: might not see this\n",
    "# with current small dataset. Or might not see many properties with larger and larger sqft because Seattle is \n",
    "# constrained by water? Or might see this given more data as new construction and remodeled homes add square footage\n",
    "# by building up.\n",
    "\n",
    "# Nice to have for future: stratify by number of stories.\n",
    "\n",
    "features_df['sr_sqft'] = features_df['sqft'].apply(lambda x: np.sqrt(x))"
   ]
  },
  {
   "cell_type": "code",
   "execution_count": 27,
   "metadata": {
    "collapsed": true
   },
   "outputs": [],
   "source": [
    "pipe3 = [\n",
    "    ('scale', preprocessing.StandardScaler()),\n",
    "    ('ml', LinearRegression())\n",
    "]\n",
    "pipe3 = Pipeline(pipe3)"
   ]
  },
  {
   "cell_type": "code",
   "execution_count": 28,
   "metadata": {
    "collapsed": false
   },
   "outputs": [
    {
     "name": "stdout",
     "output_type": "stream",
     "text": [
      "Test: 0.7208756706\n",
      "Train: 0.69974811568\n"
     ]
    }
   ],
   "source": [
    "# New model looking at only sr_sqft\n",
    "y3 = features_df.iloc[:, :1]\n",
    "X3 = features_df.iloc[:, -1:]\n",
    "X3_train, X3_test, y3_train, y3_test = train_test_split(X3, y3, test_size=0.3)\n",
    "pipe3.fit(X3_train, y3_train)\n",
    "\n",
    "# Evaluate the model against the testing data\n",
    "print('Test:', pipe3.score(X3_test, y3_test))\n",
    "print('Train:', pipe3.score(X3_train, y3_train))\n",
    "\n",
    "# Test: 0.744596429668 Comparable to original model using all features.\n",
    "# Train: 0.699399622341"
   ]
  },
  {
   "cell_type": "code",
   "execution_count": 29,
   "metadata": {
    "collapsed": false
   },
   "outputs": [
    {
     "name": "stdout",
     "output_type": "stream",
     "text": [
      "MSE for lr3:  20860037297.6\n",
      "[  2.79677221e+10   3.55565130e+10   7.81797664e+09   9.26418429e+09] 20151598997.0\n"
     ]
    }
   ],
   "source": [
    "# Model 3: Find error on model which utilized only sr_sqft\n",
    "mse3 = mean_squared_error(y3_test, pipe3.predict(X3_test))\n",
    "print('MSE for lr3: ', mse3)\n",
    "scores3 = cross_val_score(pipe3, X3_test, y3_test, cv=4, scoring='neg_mean_squared_error')\n",
    "print(-scores3, np.mean(-scores3))\n",
    "# However, MSE is 41717915644.8\n",
    "# Sqrt of this is ~ 204249.6. Smaller error when compared to first model."
   ]
  },
  {
   "cell_type": "code",
   "execution_count": 30,
   "metadata": {
    "collapsed": false
   },
   "outputs": [
    {
     "data": {
      "text/plain": [
       "<matplotlib.text.Text at 0x11ef67ba8>"
      ]
     },
     "execution_count": 30,
     "metadata": {},
     "output_type": "execute_result"
    },
    {
     "data": {
      "image/png": "[encoded data removed]",
      "text/plain": [
       "<matplotlib.figure.Figure at 0x11ec43780>"
      ]
     },
     "metadata": {},
     "output_type": "display_data"
    }
   ],
   "source": [
    "plt.plot(features_df['sr_sqft'], features_df['price'], '.', ms=13)\n",
    "plt.title('Sold price by sqrt sqft, $R^2$ = 0.74')\n",
    "plt.xlabel('sqrt sqft')\n",
    "plt.ylabel('Price, $')\n",
    "\n",
    "# This model does not perform as well as either of the previous 2 models. However will not rule out as this \n",
    "# dataset is small. "
   ]
  },
  {
   "cell_type": "code",
   "execution_count": null,
   "metadata": {
    "collapsed": true
   },
   "outputs": [],
   "source": [
    "# Should I decide to pickle the model.\n",
    "# features_df.to_pickle('soldprices1.pkl')"
   ]
  }
 ],
 "metadata": {
  "kernelspec": {
   "display_name": "Python 3",
   "language": "python",
   "name": "python3"
  },
  "language_info": {
   "codemirror_mode": {
    "name": "ipython",
    "version": 3
   },
   "file_extension": ".py",
   "mimetype": "text/x-python",
   "name": "python",
   "nbconvert_exporter": "python",
   "pygments_lexer": "ipython3",
   "version": "3.6.0"
  }
 },
 "nbformat": 4,
 "nbformat_minor": 2
}
